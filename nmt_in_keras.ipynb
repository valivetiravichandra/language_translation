{
  "nbformat": 4,
  "nbformat_minor": 0,
  "metadata": {
    "colab": {
      "name": "nmt in keras.ipynb",
      "version": "0.3.2",
      "views": {},
      "default_view": {},
      "provenance": [],
      "collapsed_sections": []
    },
    "kernelspec": {
      "name": "python3",
      "display_name": "Python 3"
    },
    "accelerator": "GPU"
  },
  "cells": [
    {
      "metadata": {
        "id": "2MO6uwLnkz6f",
        "colab_type": "text"
      },
      "cell_type": "markdown",
      "source": [
        "## Creating Neural machine translation model to translate english to french (Character level)\n",
        "\n",
        "---\n",
        "\n"
      ]
    },
    {
      "metadata": {
        "id": "6i_aIoKh_uvY",
        "colab_type": "code",
        "colab": {
          "autoexec": {
            "startup": false,
            "wait_interval": 0
          }
        }
      },
      "cell_type": "code",
      "source": [
        "import pandas as pd\n",
        "import numpy as np\n",
        "import string\n",
        "from string import digits\n",
        "import matplotlib.pyplot as plt\n",
        "%matplotlib inline\n",
        "import re\n",
        "from sklearn.model_selection import train_test_split\n",
        "from __future__ import print_function\n",
        "\n",
        "from keras.models import Model\n",
        "from keras.layers import Input, LSTM, Dense\n",
        "import numpy as np"
      ],
      "execution_count": 0,
      "outputs": []
    },
    {
      "metadata": {
        "id": "F7dzNPJpAGVu",
        "colab_type": "code",
        "colab": {
          "autoexec": {
            "startup": false,
            "wait_interval": 0
          },
          "resources": {
            "http://localhost:8080/nbextensions/google.colab/files.js": {
              "data": "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",
              "ok": true,
              "headers": [
                [
                  "content-type",
                  "application/javascript"
                ]
              ],
              "status": 200,
              "status_text": ""
            }
          },
          "base_uri": "https://localhost:8080/",
          "height": 89
        },
        "outputId": "bcc49001-bede-4ecd-9eca-e7e3828bdcd2",
        "executionInfo": {
          "status": "ok",
          "timestamp": 1523517133647,
          "user_tz": -330,
          "elapsed": 156661,
          "user": {
            "displayName": "ravi chandra",
            "photoUrl": "https://lh3.googleusercontent.com/a/default-user=s128",
            "userId": "110895212018989237941"
          }
        }
      },
      "cell_type": "code",
      "source": [
        "from google.colab import files\n",
        "\n",
        "uploaded = files.upload()\n",
        "\n",
        "for fn in uploaded.keys():\n",
        "  print('User uploaded file \"{name}\" with length {length} bytes'.format(\n",
        "      name=fn, length=len(uploaded[fn])))"
      ],
      "execution_count": 4,
      "outputs": [
        {
          "output_type": "display_data",
          "data": {
            "text/html": [
              "\n",
              "     <input type=\"file\" id=\"files-af685434-31cc-438c-8207-415b68a369bb\" name=\"files[]\" multiple disabled />\n",
              "     <output id=\"result-af685434-31cc-438c-8207-415b68a369bb\">\n",
              "      Upload widget is only available when the cell has been executed in the\n",
              "      current browser session. Please rerun this cell to enable.\n",
              "      </output>\n",
              "      <script src=\"/nbextensions/google.colab/files.js\"></script> "
            ],
            "text/plain": [
              "<IPython.core.display.HTML object>"
            ]
          },
          "metadata": {
            "tags": []
          }
        },
        {
          "output_type": "stream",
          "text": [
            "Saving fra.txt to fra.txt\n",
            "User uploaded file \"fra.txt\" with length 10670848 bytes\n"
          ],
          "name": "stdout"
        }
      ]
    },
    {
      "metadata": {
        "id": "xxcr7wq5td-a",
        "colab_type": "code",
        "colab": {
          "autoexec": {
            "startup": false,
            "wait_interval": 0
          }
        }
      },
      "cell_type": "code",
      "source": [
        "batch_size = 64  # Batch size for training.\n",
        "epochs = 100  # Number of epochs to train for.\n",
        "latent_dim = 256  # Latent dimensionality of the encoding space.\n",
        "num_samples = 10000  # Number of samples to train on.\n",
        "# Path to the data txt file on disk.\n",
        "data_path = 'fra.txt'"
      ],
      "execution_count": 0,
      "outputs": []
    },
    {
      "metadata": {
        "id": "CXMSRxEpI2Tn",
        "colab_type": "code",
        "colab": {
          "autoexec": {
            "startup": false,
            "wait_interval": 0
          },
          "base_uri": "https://localhost:8080/",
          "height": 102
        },
        "outputId": "c8d6c2c4-843f-467e-c7f7-832830073120",
        "executionInfo": {
          "status": "ok",
          "timestamp": 1523524907287,
          "user_tz": -330,
          "elapsed": 863,
          "user": {
            "displayName": "ravi chandra",
            "photoUrl": "https://lh3.googleusercontent.com/a/default-user=s128",
            "userId": "110895212018989237941"
          }
        }
      },
      "cell_type": "code",
      "source": [
        "# Vectorize the data.\n",
        "input_texts = []\n",
        "target_texts = []\n",
        "input_characters = set()\n",
        "target_characters = set()\n",
        "\n",
        "#read the data and convert it into utf-8 format to convert french characters\n",
        "\n",
        "with open(data_path, 'r', encoding='utf-8') as f:\n",
        "    lines = f.read().split('\\n')\n",
        "lines[:5]"
      ],
      "execution_count": 30,
      "outputs": [
        {
          "output_type": "execute_result",
          "data": {
            "text/plain": [
              "['Go.\\tVa !',\n",
              " 'Run!\\tCours\\u202f!',\n",
              " 'Run!\\tCourez\\u202f!',\n",
              " 'Wow!\\tÇa alors\\u202f!',\n",
              " 'Fire!\\tAu feu !']"
            ]
          },
          "metadata": {
            "tags": []
          },
          "execution_count": 30
        }
      ]
    },
    {
      "metadata": {
        "id": "4HtxAQlBJvNe",
        "colab_type": "code",
        "colab": {
          "autoexec": {
            "startup": false,
            "wait_interval": 0
          }
        }
      },
      "cell_type": "code",
      "source": [
        "# We take a 10k sample from original 152584 dataset\n",
        "for line in lines[: 10000]:\n",
        "    # Input and target are tab separated so split and text input_text,target_text\n",
        "    input_text, target_text = line.split('\\t')\n",
        "    \n",
        "    # We use \"tab\" as the \"start sequence\" character\n",
        "    # for the targets, and \"\\n\" as \"end sequence\" character.\n",
        "    target_text = '\\t' + target_text + '\\n'\n",
        "    \n",
        "    # Then we append input_text to input_texts list\n",
        "    # We do the same with target_text\n",
        "    input_texts.append(input_text)\n",
        "    target_texts.append(target_text)\n",
        "    \n",
        "    # Here we get unique characters in whole text corpus for input as well\n",
        "    # as for targets\n",
        "    for char in input_text:\n",
        "        if char not in input_characters:\n",
        "            input_characters.add(char)\n",
        "    for char in target_text:\n",
        "        if char not in target_characters:\n",
        "            target_characters.add(char)\n",
        "\n",
        "input_characters = sorted(list(input_characters))\n",
        "target_characters = sorted(list(target_characters))\n",
        "\n",
        "num_encoder_tokens = len(input_characters)\n",
        "num_decoder_tokens = len(target_characters)\n",
        "\n",
        "max_encoder_seq_length = max([len(txt) for txt in input_texts])\n",
        "max_decoder_seq_length = max([len(txt) for txt in target_texts])\n"
      ],
      "execution_count": 0,
      "outputs": []
    },
    {
      "metadata": {
        "id": "kBQkDsEVJpDI",
        "colab_type": "code",
        "colab": {
          "autoexec": {
            "startup": false,
            "wait_interval": 0
          },
          "base_uri": "https://localhost:8080/",
          "height": 102
        },
        "outputId": "d5390277-4a88-450d-8198-e8a84eb70a07",
        "executionInfo": {
          "status": "ok",
          "timestamp": 1523525518506,
          "user_tz": -330,
          "elapsed": 966,
          "user": {
            "displayName": "ravi chandra",
            "photoUrl": "https://lh3.googleusercontent.com/a/default-user=s128",
            "userId": "110895212018989237941"
          }
        }
      },
      "cell_type": "code",
      "source": [
        "print('Number of samples:', len(input_texts))\n",
        "print('Number of unique input tokens:', num_encoder_tokens)\n",
        "print('Number of unique output tokens:', num_decoder_tokens)\n",
        "print('Max sequence length for inputs:', max_encoder_seq_length)\n",
        "print('Max sequence length for outputs:', max_decoder_seq_length)"
      ],
      "execution_count": 34,
      "outputs": [
        {
          "output_type": "stream",
          "text": [
            "Number of samples: 10000\n",
            "Number of unique input tokens: 71\n",
            "Number of unique output tokens: 94\n",
            "Max sequence length for inputs: 16\n",
            "Max sequence length for outputs: 59\n"
          ],
          "name": "stdout"
        }
      ]
    },
    {
      "metadata": {
        "id": "J9UfZ-XWJP4J",
        "colab_type": "code",
        "colab": {
          "autoexec": {
            "startup": false,
            "wait_interval": 0
          }
        }
      },
      "cell_type": "code",
      "source": [
        "# Creating lookup table\n",
        "# Converts input and target characters into dict (key,value) pair where character is the key and value is integer associated with the character\n",
        "# Like {'A':1}\n",
        "input_token_index = dict(\n",
        "    [(char, i) for i, char in enumerate(input_characters)])\n",
        "target_token_index = dict(\n",
        "    [(char, i) for i, char in enumerate(target_characters)])"
      ],
      "execution_count": 0,
      "outputs": []
    },
    {
      "metadata": {
        "id": "S31mD031NLeE",
        "colab_type": "code",
        "colab": {
          "autoexec": {
            "startup": false,
            "wait_interval": 0
          }
        }
      },
      "cell_type": "code",
      "source": [
        "encoder_input_data = np.zeros(\n",
        "    (len(input_texts), max_encoder_seq_length, num_encoder_tokens),\n",
        "    dtype='float32')\n",
        "decoder_input_data = np.zeros(\n",
        "    (len(input_texts), max_decoder_seq_length, num_decoder_tokens),\n",
        "    dtype='float32')\n",
        "decoder_target_data = np.zeros(\n",
        "    (len(input_texts), max_decoder_seq_length, num_decoder_tokens),\n",
        "    dtype='float32')\n"
      ],
      "execution_count": 0,
      "outputs": []
    },
    {
      "metadata": {
        "id": "UspatCGcNdIn",
        "colab_type": "code",
        "colab": {
          "autoexec": {
            "startup": false,
            "wait_interval": 0
          },
          "base_uri": "https://localhost:8080/",
          "height": 68
        },
        "outputId": "798d8c9c-3205-4057-9d3e-6e1188a486fb",
        "executionInfo": {
          "status": "ok",
          "timestamp": 1523526503639,
          "user_tz": -330,
          "elapsed": 886,
          "user": {
            "displayName": "ravi chandra",
            "photoUrl": "https://lh3.googleusercontent.com/a/default-user=s128",
            "userId": "110895212018989237941"
          }
        }
      },
      "cell_type": "code",
      "source": [
        "print(\"encoder_input_data shape (rows,max_seq_len,n.o of unique chars)\",encoder_input_data.shape)\n",
        "print(\"decoder_input_data shape (rows,max_seq_len,n.o of unique chars)\",decoder_input_data.shape)\n",
        "print(\"decoder_target_data shape (rows,max_seq_len,n.o of unique chars)\",decoder_target_data.shape)"
      ],
      "execution_count": 56,
      "outputs": [
        {
          "output_type": "stream",
          "text": [
            "encoder_input_data shape (rows,max_seq_len,n.o of unique chars) (10000, 16, 71)\n",
            "decoder_input_data shape (rows,max_seq_len,n.o of unique chars) (10000, 59, 94)\n",
            "decoder_target_data shape (rows,max_seq_len,n.o of unique chars) (10000, 59, 94)\n"
          ],
          "name": "stdout"
        }
      ]
    },
    {
      "metadata": {
        "id": "Q6WFgu5pYpQo",
        "colab_type": "text"
      },
      "cell_type": "markdown",
      "source": [
        "1) encoder_input_data is a 3D array of shape (num_pairs, max_english_sentence_length, num_english_characters) containing a one-hot vectorization of the English sentences.\n",
        "\n",
        "2) decoder_input_data is a 3D array of shape (num_pairs, max_french_sentence_length, num_french_characters) containg a one-hot vectorization of the French sentences.\n",
        "\n",
        "3) decoder_target_data is the same as decoder_input_data but offset by one timestep. decoder_target_data[:, t, :] will be the same as decoder_input_data[:, t + 1, :]."
      ]
    },
    {
      "metadata": {
        "id": "Mr0BM9o4OBzW",
        "colab_type": "code",
        "colab": {
          "autoexec": {
            "startup": false,
            "wait_interval": 0
          }
        }
      },
      "cell_type": "code",
      "source": [
        "# Code below one-hot encodes the data and stores in the np.zero arrays which we create before\n",
        "for i, (input_text, target_text) in enumerate(zip(input_texts, target_texts)):\n",
        "    for t, char in enumerate(input_text):\n",
        "        encoder_input_data[i, t, input_token_index[char]] = 1.\n",
        "    for t, char in enumerate(target_text):\n",
        "        # decoder_target_data is ahead of decoder_input_data by one timestep\n",
        "        decoder_input_data[i, t, target_token_index[char]] = 1.\n",
        "        if t > 0:\n",
        "            # decoder_target_data will be ahead by one timestep\n",
        "            # and will not include the start character.\n",
        "            \n",
        "            # Here we use t-1 because the t starts with 1(In decoder_target_data) and not zero so you\n",
        "            # end up putting second char in array into t-1 i.e zero place.\n",
        "            decoder_target_data[i, t - 1, target_token_index[char]] = 1.\n"
      ],
      "execution_count": 0,
      "outputs": []
    },
    {
      "metadata": {
        "id": "5czrHTSRjlcV",
        "colab_type": "code",
        "colab": {
          "autoexec": {
            "startup": false,
            "wait_interval": 0
          },
          "base_uri": "https://localhost:8080/",
          "height": 340
        },
        "outputId": "0ba58008-76ea-4962-a157-d66bd1110a59",
        "executionInfo": {
          "status": "ok",
          "timestamp": 1523531540969,
          "user_tz": -330,
          "elapsed": 864,
          "user": {
            "displayName": "ravi chandra",
            "photoUrl": "https://lh3.googleusercontent.com/a/default-user=s128",
            "userId": "110895212018989237941"
          }
        }
      },
      "cell_type": "code",
      "source": [
        "model.summary()"
      ],
      "execution_count": 85,
      "outputs": [
        {
          "output_type": "stream",
          "text": [
            "__________________________________________________________________________________________________\n",
            "Layer (type)                    Output Shape         Param #     Connected to                     \n",
            "==================================================================================================\n",
            "input_3 (InputLayer)            (None, None, 71)     0                                            \n",
            "__________________________________________________________________________________________________\n",
            "input_4 (InputLayer)            (None, None, 94)     0                                            \n",
            "__________________________________________________________________________________________________\n",
            "lstm_3 (LSTM)                   [(None, 256), (None, 335872      input_3[0][0]                    \n",
            "__________________________________________________________________________________________________\n",
            "lstm_4 (LSTM)                   [(None, None, 256),  359424      input_4[0][0]                    \n",
            "                                                                 lstm_3[0][1]                     \n",
            "                                                                 lstm_3[0][2]                     \n",
            "__________________________________________________________________________________________________\n",
            "dense_2 (Dense)                 (None, None, 94)     24158       lstm_4[0][0]                     \n",
            "==================================================================================================\n",
            "Total params: 719,454\n",
            "Trainable params: 719,454\n",
            "Non-trainable params: 0\n",
            "__________________________________________________________________________________________________\n"
          ],
          "name": "stdout"
        }
      ]
    },
    {
      "metadata": {
        "id": "DHkWv60UV-g3",
        "colab_type": "code",
        "colab": {
          "autoexec": {
            "startup": false,
            "wait_interval": 0
          },
          "base_uri": "https://localhost:8080/",
          "height": 3471
        },
        "outputId": "f9215828-b73f-4965-b783-bd661673f4de",
        "executionInfo": {
          "status": "ok",
          "timestamp": 1523531339712,
          "user_tz": -330,
          "elapsed": 2253822,
          "user": {
            "displayName": "ravi chandra",
            "photoUrl": "https://lh3.googleusercontent.com/a/default-user=s128",
            "userId": "110895212018989237941"
          }
        }
      },
      "cell_type": "code",
      "source": [
        "encoder_inputs = Input(shape=(None, num_encoder_tokens))\n",
        "encoder = LSTM(latent_dim, return_state=True)\n",
        "encoder_outputs, state_h, state_c = encoder(encoder_inputs)\n",
        "# We discard `encoder_outputs` and only keep the states.\n",
        "encoder_states = [state_h, state_c]\n",
        "\n",
        "# Set up the decoder, using `encoder_states` as initial state.\n",
        "decoder_inputs = Input(shape=(None, num_decoder_tokens))\n",
        "# We set up our decoder to return full output sequences,\n",
        "# and to return internal states as well. We don't use the\n",
        "# return states in the training model, but we will use them in inference.\n",
        "decoder_lstm = LSTM(latent_dim, return_sequences=True, return_state=True)\n",
        "decoder_outputs, _, _ = decoder_lstm(decoder_inputs,\n",
        "                                     initial_state=encoder_states)\n",
        "decoder_dense = Dense(num_decoder_tokens, activation='softmax')\n",
        "decoder_outputs = decoder_dense(decoder_outputs)\n",
        "\n",
        "# Define the model that will turn\n",
        "# `encoder_input_data` & `decoder_input_data` into `decoder_target_data`\n",
        "model = Model([encoder_inputs, decoder_inputs], decoder_outputs)\n",
        "\n",
        "# Run training\n",
        "model.compile(optimizer='rmsprop', loss='categorical_crossentropy')\n",
        "model.fit([encoder_input_data, decoder_input_data], decoder_target_data,\n",
        "          batch_size=batch_size,\n",
        "          epochs=epochs,\n",
        "          validation_split=0.2)"
      ],
      "execution_count": 83,
      "outputs": [
        {
          "output_type": "stream",
          "text": [
            "Train on 8000 samples, validate on 2000 samples\n",
            "Epoch 1/100\n",
            "8000/8000 [==============================] - 23s 3ms/step - loss: 0.9185 - val_loss: 0.9568\n",
            "Epoch 2/100\n",
            "8000/8000 [==============================] - 22s 3ms/step - loss: 0.7215 - val_loss: 0.7922\n",
            "Epoch 3/100\n",
            "8000/8000 [==============================] - 22s 3ms/step - loss: 0.6142 - val_loss: 0.6991\n",
            "Epoch 4/100\n",
            "1856/8000 [=====>........................] - ETA: 15s - loss: 0.5702"
          ],
          "name": "stdout"
        },
        {
          "output_type": "stream",
          "text": [
            "8000/8000 [==============================] - 22s 3ms/step - loss: 0.5568 - val_loss: 0.6509\n",
            "Epoch 5/100\n",
            "8000/8000 [==============================] - 22s 3ms/step - loss: 0.5215 - val_loss: 0.6161\n",
            "Epoch 6/100\n",
            "8000/8000 [==============================] - 22s 3ms/step - loss: 0.4883 - val_loss: 0.5886\n",
            "Epoch 7/100\n",
            "6272/8000 [======================>.......] - ETA: 4s - loss: 0.4649"
          ],
          "name": "stdout"
        },
        {
          "output_type": "stream",
          "text": [
            "8000/8000 [==============================] - 22s 3ms/step - loss: 0.4626 - val_loss: 0.5698\n",
            "Epoch 8/100\n",
            "8000/8000 [==============================] - 22s 3ms/step - loss: 0.4401 - val_loss: 0.5535\n",
            "Epoch 9/100\n",
            "8000/8000 [==============================] - 22s 3ms/step - loss: 0.4200 - val_loss: 0.5327\n",
            "Epoch 10/100\n",
            "7040/8000 [=========================>....] - ETA: 2s - loss: 0.4046"
          ],
          "name": "stdout"
        },
        {
          "output_type": "stream",
          "text": [
            "8000/8000 [==============================] - 22s 3ms/step - loss: 0.4040 - val_loss: 0.5202\n",
            "Epoch 11/100\n",
            "8000/8000 [==============================] - 22s 3ms/step - loss: 0.3882 - val_loss: 0.5100\n",
            "Epoch 12/100\n",
            "8000/8000 [==============================] - 23s 3ms/step - loss: 0.3733 - val_loss: 0.4995\n",
            "Epoch 13/100\n",
            "7104/8000 [=========================>....] - ETA: 2s - loss: 0.3603"
          ],
          "name": "stdout"
        },
        {
          "output_type": "stream",
          "text": [
            "8000/8000 [==============================] - 23s 3ms/step - loss: 0.3602 - val_loss: 0.4898\n",
            "Epoch 14/100\n",
            "8000/8000 [==============================] - 23s 3ms/step - loss: 0.3476 - val_loss: 0.4919\n",
            "Epoch 15/100\n",
            "8000/8000 [==============================] - 23s 3ms/step - loss: 0.3357 - val_loss: 0.4839\n",
            "Epoch 16/100\n",
            "7104/8000 [=========================>....] - ETA: 2s - loss: 0.3243"
          ],
          "name": "stdout"
        },
        {
          "output_type": "stream",
          "text": [
            "8000/8000 [==============================] - 23s 3ms/step - loss: 0.3245 - val_loss: 0.4771\n",
            "Epoch 17/100\n",
            "8000/8000 [==============================] - 22s 3ms/step - loss: 0.3135 - val_loss: 0.4743\n",
            "Epoch 18/100\n",
            "8000/8000 [==============================] - 22s 3ms/step - loss: 0.3032 - val_loss: 0.4734\n",
            "Epoch 19/100\n",
            "7104/8000 [=========================>....] - ETA: 2s - loss: 0.2923"
          ],
          "name": "stdout"
        },
        {
          "output_type": "stream",
          "text": [
            "8000/8000 [==============================] - 22s 3ms/step - loss: 0.2933 - val_loss: 0.4724\n",
            "Epoch 20/100\n",
            "8000/8000 [==============================] - 22s 3ms/step - loss: 0.2843 - val_loss: 0.4651\n",
            "Epoch 21/100\n",
            "8000/8000 [==============================] - 22s 3ms/step - loss: 0.2753 - val_loss: 0.4693\n",
            "Epoch 22/100\n",
            "7104/8000 [=========================>....] - ETA: 2s - loss: 0.2662"
          ],
          "name": "stdout"
        },
        {
          "output_type": "stream",
          "text": [
            "8000/8000 [==============================] - 22s 3ms/step - loss: 0.2668 - val_loss: 0.4666\n",
            "Epoch 23/100\n",
            "8000/8000 [==============================] - 22s 3ms/step - loss: 0.2583 - val_loss: 0.4665\n",
            "Epoch 24/100\n",
            "8000/8000 [==============================] - 22s 3ms/step - loss: 0.2508 - val_loss: 0.4704\n",
            "Epoch 25/100\n",
            "7104/8000 [=========================>....] - ETA: 2s - loss: 0.2432"
          ],
          "name": "stdout"
        },
        {
          "output_type": "stream",
          "text": [
            "8000/8000 [==============================] - 22s 3ms/step - loss: 0.2430 - val_loss: 0.4704\n",
            "Epoch 26/100\n",
            "8000/8000 [==============================] - 22s 3ms/step - loss: 0.2356 - val_loss: 0.4758\n",
            "Epoch 27/100\n",
            "8000/8000 [==============================] - 22s 3ms/step - loss: 0.2288 - val_loss: 0.4752\n",
            "Epoch 28/100\n",
            "7104/8000 [=========================>....] - ETA: 2s - loss: 0.2218"
          ],
          "name": "stdout"
        },
        {
          "output_type": "stream",
          "text": [
            "8000/8000 [==============================] - 22s 3ms/step - loss: 0.2220 - val_loss: 0.4803\n",
            "Epoch 29/100\n",
            "8000/8000 [==============================] - 23s 3ms/step - loss: 0.2156 - val_loss: 0.4758\n",
            "Epoch 30/100\n",
            "8000/8000 [==============================] - 23s 3ms/step - loss: 0.2096 - val_loss: 0.4810\n",
            "Epoch 31/100\n",
            "7104/8000 [=========================>....] - ETA: 2s - loss: 0.2027"
          ],
          "name": "stdout"
        },
        {
          "output_type": "stream",
          "text": [
            "8000/8000 [==============================] - 23s 3ms/step - loss: 0.2035 - val_loss: 0.4805\n",
            "Epoch 32/100\n",
            "8000/8000 [==============================] - 23s 3ms/step - loss: 0.1976 - val_loss: 0.4866\n",
            "Epoch 33/100\n",
            "8000/8000 [==============================] - 23s 3ms/step - loss: 0.1921 - val_loss: 0.4910\n",
            "Epoch 34/100\n",
            "7104/8000 [=========================>....] - ETA: 2s - loss: 0.1869"
          ],
          "name": "stdout"
        },
        {
          "output_type": "stream",
          "text": [
            "8000/8000 [==============================] - 23s 3ms/step - loss: 0.1868 - val_loss: 0.4986\n",
            "Epoch 35/100\n",
            "8000/8000 [==============================] - 22s 3ms/step - loss: 0.1820 - val_loss: 0.5025\n",
            "Epoch 36/100\n",
            "8000/8000 [==============================] - 23s 3ms/step - loss: 0.1768 - val_loss: 0.5013\n",
            "Epoch 37/100\n",
            "7104/8000 [=========================>....] - ETA: 2s - loss: 0.1716"
          ],
          "name": "stdout"
        },
        {
          "output_type": "stream",
          "text": [
            "8000/8000 [==============================] - 23s 3ms/step - loss: 0.1725 - val_loss: 0.5137\n",
            "Epoch 38/100\n",
            "8000/8000 [==============================] - 22s 3ms/step - loss: 0.1675 - val_loss: 0.5194\n",
            "Epoch 39/100\n",
            "8000/8000 [==============================] - 22s 3ms/step - loss: 0.1635 - val_loss: 0.5243\n",
            "Epoch 40/100\n",
            "7104/8000 [=========================>....] - ETA: 2s - loss: 0.1584"
          ],
          "name": "stdout"
        },
        {
          "output_type": "stream",
          "text": [
            "8000/8000 [==============================] - 23s 3ms/step - loss: 0.1588 - val_loss: 0.5207\n",
            "Epoch 41/100\n",
            "8000/8000 [==============================] - 23s 3ms/step - loss: 0.1549 - val_loss: 0.5269\n",
            "Epoch 42/100\n",
            "8000/8000 [==============================] - 23s 3ms/step - loss: 0.1509 - val_loss: 0.5315\n",
            "Epoch 43/100\n",
            "7104/8000 [=========================>....] - ETA: 2s - loss: 0.1465"
          ],
          "name": "stdout"
        },
        {
          "output_type": "stream",
          "text": [
            "8000/8000 [==============================] - 23s 3ms/step - loss: 0.1475 - val_loss: 0.5405\n",
            "Epoch 44/100\n",
            "8000/8000 [==============================] - 23s 3ms/step - loss: 0.1436 - val_loss: 0.5471\n",
            "Epoch 45/100\n",
            "8000/8000 [==============================] - 23s 3ms/step - loss: 0.1402 - val_loss: 0.5456\n",
            "Epoch 46/100\n",
            "7104/8000 [=========================>....] - ETA: 2s - loss: 0.1364"
          ],
          "name": "stdout"
        },
        {
          "output_type": "stream",
          "text": [
            "8000/8000 [==============================] - 23s 3ms/step - loss: 0.1370 - val_loss: 0.5510\n",
            "Epoch 47/100\n",
            "8000/8000 [==============================] - 23s 3ms/step - loss: 0.1336 - val_loss: 0.5589\n",
            "Epoch 48/100\n",
            "8000/8000 [==============================] - 23s 3ms/step - loss: 0.1308 - val_loss: 0.5634\n",
            "Epoch 49/100\n",
            "7104/8000 [=========================>....] - ETA: 2s - loss: 0.1262"
          ],
          "name": "stdout"
        },
        {
          "output_type": "stream",
          "text": [
            "8000/8000 [==============================] - 22s 3ms/step - loss: 0.1275 - val_loss: 0.5706\n",
            "Epoch 50/100\n",
            "8000/8000 [==============================] - 22s 3ms/step - loss: 0.1245 - val_loss: 0.5754\n",
            "Epoch 51/100\n",
            "8000/8000 [==============================] - 22s 3ms/step - loss: 0.1221 - val_loss: 0.5804\n",
            "Epoch 52/100\n",
            "7104/8000 [=========================>....] - ETA: 2s - loss: 0.1188"
          ],
          "name": "stdout"
        },
        {
          "output_type": "stream",
          "text": [
            "8000/8000 [==============================] - 23s 3ms/step - loss: 0.1192 - val_loss: 0.5870\n",
            "Epoch 53/100\n",
            "8000/8000 [==============================] - 23s 3ms/step - loss: 0.1166 - val_loss: 0.5978\n",
            "Epoch 54/100\n",
            "8000/8000 [==============================] - 23s 3ms/step - loss: 0.1142 - val_loss: 0.5964\n",
            "Epoch 55/100\n",
            "7104/8000 [=========================>....] - ETA: 2s - loss: 0.1113"
          ],
          "name": "stdout"
        },
        {
          "output_type": "stream",
          "text": [
            "8000/8000 [==============================] - 23s 3ms/step - loss: 0.1117 - val_loss: 0.5947\n",
            "Epoch 56/100\n",
            "8000/8000 [==============================] - 23s 3ms/step - loss: 0.1091 - val_loss: 0.6026\n",
            "Epoch 57/100\n",
            "8000/8000 [==============================] - 23s 3ms/step - loss: 0.1070 - val_loss: 0.6109\n",
            "Epoch 58/100\n",
            "7104/8000 [=========================>....] - ETA: 2s - loss: 0.1049"
          ],
          "name": "stdout"
        },
        {
          "output_type": "stream",
          "text": [
            "8000/8000 [==============================] - 23s 3ms/step - loss: 0.1050 - val_loss: 0.6137\n",
            "Epoch 59/100\n",
            "8000/8000 [==============================] - 23s 3ms/step - loss: 0.1028 - val_loss: 0.6197\n",
            "Epoch 60/100\n",
            "8000/8000 [==============================] - 22s 3ms/step - loss: 0.1006 - val_loss: 0.6272\n",
            "Epoch 61/100\n",
            "7104/8000 [=========================>....] - ETA: 2s - loss: 0.0982"
          ],
          "name": "stdout"
        },
        {
          "output_type": "stream",
          "text": [
            "8000/8000 [==============================] - 23s 3ms/step - loss: 0.0989 - val_loss: 0.6331\n",
            "Epoch 62/100\n",
            "8000/8000 [==============================] - 23s 3ms/step - loss: 0.0966 - val_loss: 0.6354\n",
            "Epoch 63/100\n",
            "8000/8000 [==============================] - 23s 3ms/step - loss: 0.0952 - val_loss: 0.6391\n",
            "Epoch 64/100\n",
            "7104/8000 [=========================>....] - ETA: 2s - loss: 0.0928"
          ],
          "name": "stdout"
        },
        {
          "output_type": "stream",
          "text": [
            "8000/8000 [==============================] - 23s 3ms/step - loss: 0.0932 - val_loss: 0.6457\n",
            "Epoch 65/100\n",
            "8000/8000 [==============================] - 23s 3ms/step - loss: 0.0916 - val_loss: 0.6500\n",
            "Epoch 66/100\n",
            "8000/8000 [==============================] - 23s 3ms/step - loss: 0.0899 - val_loss: 0.6501\n",
            "Epoch 67/100\n",
            "7104/8000 [=========================>....] - ETA: 2s - loss: 0.0876"
          ],
          "name": "stdout"
        },
        {
          "output_type": "stream",
          "text": [
            "8000/8000 [==============================] - 23s 3ms/step - loss: 0.0883 - val_loss: 0.6551\n",
            "Epoch 68/100\n",
            "8000/8000 [==============================] - 23s 3ms/step - loss: 0.0868 - val_loss: 0.6637\n",
            "Epoch 69/100\n",
            "8000/8000 [==============================] - 23s 3ms/step - loss: 0.0851 - val_loss: 0.6632\n",
            "Epoch 70/100\n",
            "7104/8000 [=========================>....] - ETA: 2s - loss: 0.0830"
          ],
          "name": "stdout"
        },
        {
          "output_type": "stream",
          "text": [
            "8000/8000 [==============================] - 23s 3ms/step - loss: 0.0835 - val_loss: 0.6688\n",
            "Epoch 71/100\n",
            "8000/8000 [==============================] - 23s 3ms/step - loss: 0.0820 - val_loss: 0.6717\n",
            "Epoch 72/100\n",
            "8000/8000 [==============================] - 23s 3ms/step - loss: 0.0804 - val_loss: 0.6783\n",
            "Epoch 73/100\n",
            "7104/8000 [=========================>....] - ETA: 2s - loss: 0.0787"
          ],
          "name": "stdout"
        },
        {
          "output_type": "stream",
          "text": [
            "8000/8000 [==============================] - 22s 3ms/step - loss: 0.0792 - val_loss: 0.6843\n",
            "Epoch 74/100\n",
            "8000/8000 [==============================] - 23s 3ms/step - loss: 0.0782 - val_loss: 0.6824\n",
            "Epoch 75/100\n",
            "8000/8000 [==============================] - 23s 3ms/step - loss: 0.0767 - val_loss: 0.6940\n",
            "Epoch 76/100\n",
            "7104/8000 [=========================>....] - ETA: 2s - loss: 0.0753"
          ],
          "name": "stdout"
        },
        {
          "output_type": "stream",
          "text": [
            "8000/8000 [==============================] - 23s 3ms/step - loss: 0.0758 - val_loss: 0.6947\n",
            "Epoch 77/100\n",
            "8000/8000 [==============================] - 22s 3ms/step - loss: 0.0743 - val_loss: 0.7021\n",
            "Epoch 78/100\n",
            "8000/8000 [==============================] - 23s 3ms/step - loss: 0.0732 - val_loss: 0.6976\n",
            "Epoch 79/100\n",
            "7104/8000 [=========================>....] - ETA: 2s - loss: 0.0713"
          ],
          "name": "stdout"
        },
        {
          "output_type": "stream",
          "text": [
            "8000/8000 [==============================] - 23s 3ms/step - loss: 0.0721 - val_loss: 0.7073\n",
            "Epoch 80/100\n",
            "8000/8000 [==============================] - 23s 3ms/step - loss: 0.0712 - val_loss: 0.7073\n",
            "Epoch 81/100\n",
            "8000/8000 [==============================] - 23s 3ms/step - loss: 0.0696 - val_loss: 0.7099\n",
            "Epoch 82/100\n",
            "7104/8000 [=========================>....] - ETA: 2s - loss: 0.0679"
          ],
          "name": "stdout"
        },
        {
          "output_type": "stream",
          "text": [
            "8000/8000 [==============================] - 22s 3ms/step - loss: 0.0686 - val_loss: 0.7176\n",
            "Epoch 83/100\n",
            "8000/8000 [==============================] - 22s 3ms/step - loss: 0.0680 - val_loss: 0.7180\n",
            "Epoch 84/100\n",
            "8000/8000 [==============================] - 22s 3ms/step - loss: 0.0665 - val_loss: 0.7212\n",
            "Epoch 85/100\n",
            "7104/8000 [=========================>....] - ETA: 2s - loss: 0.0649"
          ],
          "name": "stdout"
        },
        {
          "output_type": "stream",
          "text": [
            "8000/8000 [==============================] - 23s 3ms/step - loss: 0.0656 - val_loss: 0.7312\n",
            "Epoch 86/100\n",
            "8000/8000 [==============================] - 23s 3ms/step - loss: 0.0646 - val_loss: 0.7283\n",
            "Epoch 87/100\n",
            "8000/8000 [==============================] - 23s 3ms/step - loss: 0.0637 - val_loss: 0.7373\n",
            "Epoch 88/100\n",
            "7104/8000 [=========================>....] - ETA: 2s - loss: 0.0624"
          ],
          "name": "stdout"
        },
        {
          "output_type": "stream",
          "text": [
            "8000/8000 [==============================] - 23s 3ms/step - loss: 0.0630 - val_loss: 0.7406\n",
            "Epoch 89/100\n",
            "8000/8000 [==============================] - 22s 3ms/step - loss: 0.0622 - val_loss: 0.7318\n",
            "Epoch 90/100\n",
            "8000/8000 [==============================] - 23s 3ms/step - loss: 0.0609 - val_loss: 0.7441\n",
            "Epoch 91/100\n",
            "7104/8000 [=========================>....] - ETA: 2s - loss: 0.0600"
          ],
          "name": "stdout"
        },
        {
          "output_type": "stream",
          "text": [
            "8000/8000 [==============================] - 23s 3ms/step - loss: 0.0605 - val_loss: 0.7477\n",
            "Epoch 92/100\n",
            "8000/8000 [==============================] - 22s 3ms/step - loss: 0.0594 - val_loss: 0.7589\n",
            "Epoch 93/100\n",
            "8000/8000 [==============================] - 22s 3ms/step - loss: 0.0587 - val_loss: 0.7582\n",
            "Epoch 94/100\n",
            "7104/8000 [=========================>....] - ETA: 2s - loss: 0.0575"
          ],
          "name": "stdout"
        },
        {
          "output_type": "stream",
          "text": [
            "8000/8000 [==============================] - 22s 3ms/step - loss: 0.0580 - val_loss: 0.7651\n",
            "Epoch 95/100\n",
            "8000/8000 [==============================] - 22s 3ms/step - loss: 0.0572 - val_loss: 0.7633\n",
            "Epoch 96/100\n",
            "8000/8000 [==============================] - 22s 3ms/step - loss: 0.0562 - val_loss: 0.7634\n",
            "Epoch 97/100\n",
            "7104/8000 [=========================>....] - ETA: 2s - loss: 0.0552"
          ],
          "name": "stdout"
        },
        {
          "output_type": "stream",
          "text": [
            "8000/8000 [==============================] - 22s 3ms/step - loss: 0.0555 - val_loss: 0.7683\n",
            "Epoch 98/100\n",
            "8000/8000 [==============================] - 22s 3ms/step - loss: 0.0551 - val_loss: 0.7758\n",
            "Epoch 99/100\n",
            "8000/8000 [==============================] - 22s 3ms/step - loss: 0.0539 - val_loss: 0.7686\n",
            "Epoch 100/100\n",
            "7104/8000 [=========================>....] - ETA: 2s - loss: 0.0529"
          ],
          "name": "stdout"
        },
        {
          "output_type": "stream",
          "text": [
            "8000/8000 [==============================] - 22s 3ms/step - loss: 0.0532 - val_loss: 0.7716\n"
          ],
          "name": "stdout"
        },
        {
          "output_type": "execute_result",
          "data": {
            "text/plain": [
              "<keras.callbacks.History at 0x7feee08d1588>"
            ]
          },
          "metadata": {
            "tags": []
          },
          "execution_count": 83
        }
      ]
    },
    {
      "metadata": {
        "id": "McJdLz7Tj8KI",
        "colab_type": "text"
      },
      "cell_type": "markdown",
      "source": [
        "Saving model weights to h5 file"
      ]
    },
    {
      "metadata": {
        "id": "GHL4aDOIZxjM",
        "colab_type": "code",
        "colab": {
          "autoexec": {
            "startup": false,
            "wait_interval": 0
          },
          "base_uri": "https://localhost:8080/",
          "height": 71
        },
        "outputId": "119e1f8c-7c27-4718-f854-5fc8a63e33ec",
        "executionInfo": {
          "status": "ok",
          "timestamp": 1523531343831,
          "user_tz": -330,
          "elapsed": 912,
          "user": {
            "displayName": "ravi chandra",
            "photoUrl": "https://lh3.googleusercontent.com/a/default-user=s128",
            "userId": "110895212018989237941"
          }
        }
      },
      "cell_type": "code",
      "source": [
        "model.save('seq2seq.h5')"
      ],
      "execution_count": 84,
      "outputs": [
        {
          "output_type": "stream",
          "text": [
            "/usr/local/lib/python3.6/dist-packages/keras/engine/topology.py:2368: UserWarning: Layer lstm_4 was passed non-serializable keyword arguments: {'initial_state': [<tf.Tensor 'lstm_3/while/Exit_2:0' shape=(?, 256) dtype=float32>, <tf.Tensor 'lstm_3/while/Exit_3:0' shape=(?, 256) dtype=float32>]}. They will not be included in the serialized model (and thus will be missing at deserialization time).\n",
            "  str(node.arguments) + '. They will not be included '\n"
          ],
          "name": "stderr"
        }
      ]
    },
    {
      "metadata": {
        "id": "pcLGgnAbj5Wj",
        "colab_type": "text"
      },
      "cell_type": "markdown",
      "source": [
        "Downloading model from colab"
      ]
    },
    {
      "metadata": {
        "id": "wMbVi84ti2Pc",
        "colab_type": "code",
        "colab": {
          "autoexec": {
            "startup": false,
            "wait_interval": 0
          }
        }
      },
      "cell_type": "code",
      "source": [
        "from google.colab import files\n",
        "\n",
        "files.download('seq2seq.h5')"
      ],
      "execution_count": 0,
      "outputs": []
    },
    {
      "metadata": {
        "id": "H_JiyCJoj3fN",
        "colab_type": "code",
        "colab": {
          "autoexec": {
            "startup": false,
            "wait_interval": 0
          },
          "base_uri": "https://localhost:8080/",
          "height": 10217
        },
        "outputId": "03036899-df06-4e0a-89fa-3e8717ca2676",
        "executionInfo": {
          "status": "ok",
          "timestamp": 1523531821766,
          "user_tz": -330,
          "elapsed": 6571,
          "user": {
            "displayName": "ravi chandra",
            "photoUrl": "https://lh3.googleusercontent.com/a/default-user=s128",
            "userId": "110895212018989237941"
          }
        }
      },
      "cell_type": "code",
      "source": [
        "# Define sampling models\n",
        "encoder_model = Model(encoder_inputs, encoder_states)\n",
        "\n",
        "decoder_state_input_h = Input(shape=(latent_dim,))\n",
        "decoder_state_input_c = Input(shape=(latent_dim,))\n",
        "decoder_states_inputs = [decoder_state_input_h, decoder_state_input_c]\n",
        "decoder_outputs, state_h, state_c = decoder_lstm(\n",
        "    decoder_inputs, initial_state=decoder_states_inputs)\n",
        "decoder_states = [state_h, state_c]\n",
        "decoder_outputs = decoder_dense(decoder_outputs)\n",
        "decoder_model = Model(\n",
        "    [decoder_inputs] + decoder_states_inputs,\n",
        "    [decoder_outputs] + decoder_states)\n",
        "\n",
        "# Reverse-lookup token index to decode sequences back to\n",
        "# something readable.\n",
        "reverse_input_char_index = dict(\n",
        "    (i, char) for char, i in input_token_index.items())\n",
        "reverse_target_char_index = dict(\n",
        "    (i, char) for char, i in target_token_index.items())\n",
        "\n",
        "\n",
        "def decode_sequence(input_seq):\n",
        "    # Encode the input as state vectors.\n",
        "    states_value = encoder_model.predict(input_seq)\n",
        "\n",
        "    # Generate empty target sequence of length 1.\n",
        "    target_seq = np.zeros((1, 1, num_decoder_tokens))\n",
        "    # Populate the first character of target sequence with the start character.\n",
        "    target_seq[0, 0, target_token_index['\\t']] = 1.\n",
        "\n",
        "    # Sampling loop for a batch of sequences\n",
        "    # (to simplify, here we assume a batch of size 1).\n",
        "    stop_condition = False\n",
        "    decoded_sentence = ''\n",
        "    while not stop_condition:\n",
        "        output_tokens, h, c = decoder_model.predict(\n",
        "            [target_seq] + states_value)\n",
        "\n",
        "        # Sample a token\n",
        "        sampled_token_index = np.argmax(output_tokens[0, -1, :])\n",
        "        sampled_char = reverse_target_char_index[sampled_token_index]\n",
        "        decoded_sentence += sampled_char\n",
        "\n",
        "        # Exit condition: either hit max length\n",
        "        # or find stop character.\n",
        "        if (sampled_char == '\\n' or\n",
        "           len(decoded_sentence) > max_decoder_seq_length):\n",
        "            stop_condition = True\n",
        "\n",
        "        # Update the target sequence (of length 1).\n",
        "        target_seq = np.zeros((1, 1, num_decoder_tokens))\n",
        "        target_seq[0, 0, sampled_token_index] = 1.\n",
        "\n",
        "        # Update states\n",
        "        states_value = [h, c]\n",
        "\n",
        "    return decoded_sentence\n",
        "\n",
        "\n",
        "for seq_index in range(100):\n",
        "    # Take one sequence (part of the training set)\n",
        "    # for trying out decoding.\n",
        "    input_seq = encoder_input_data[seq_index: seq_index + 1]\n",
        "    decoded_sentence = decode_sequence(input_seq)\n",
        "    print('-')\n",
        "    print('Input sentence:', input_texts[seq_index])\n",
        "    print('Decoded sentence:', decoded_sentence)\n",
        "    print('True target sentence:',target_texts[seq_index])"
      ],
      "execution_count": 89,
      "outputs": [
        {
          "output_type": "stream",
          "text": [
            "-\n",
            "Input sentence: Go.\n",
            "Decoded sentence: Va !\n",
            "\n",
            "True target sentence: \tVa !\n",
            "\n",
            "-\n",
            "Input sentence: Run!\n",
            "Decoded sentence: Courez !\n",
            "\n",
            "True target sentence: \tCours !\n",
            "\n",
            "-\n",
            "Input sentence: Run!\n",
            "Decoded sentence: Courez !\n",
            "\n",
            "True target sentence: \tCourez !\n",
            "\n",
            "-\n",
            "Input sentence: Wow!\n",
            "Decoded sentence: Ça alors !\n",
            "\n",
            "True target sentence: \tÇa alors !\n",
            "\n",
            "-\n",
            "Input sentence: Fire!\n",
            "Decoded sentence: Au feu !\n",
            "\n",
            "True target sentence: \tAu feu !\n",
            "\n",
            "-\n",
            "Input sentence: Help!\n",
            "Decoded sentence: À l'aide !\n",
            "\n",
            "True target sentence: \tÀ l'aide !\n",
            "\n",
            "-\n",
            "Input sentence: Jump.\n",
            "Decoded sentence: Saute.\n",
            "\n",
            "True target sentence: \tSaute.\n",
            "\n",
            "-\n",
            "Input sentence: Stop!\n",
            "Decoded sentence: Ça suffit !\n",
            "\n",
            "True target sentence: \tÇa suffit !\n",
            "\n",
            "-\n",
            "Input sentence: Stop!\n",
            "Decoded sentence: Ça suffit !\n",
            "\n",
            "True target sentence: \tStop !\n",
            "\n",
            "-\n",
            "Input sentence: Stop!\n",
            "Decoded sentence: Ça suffit !\n",
            "\n",
            "True target sentence: \tArrête-toi !\n",
            "\n",
            "-\n",
            "Input sentence: Wait!\n",
            "Decoded sentence: Attends !\n",
            "\n",
            "True target sentence: \tAttends !\n",
            "\n",
            "-\n",
            "Input sentence: Wait!\n",
            "Decoded sentence: Attends !\n",
            "\n",
            "True target sentence: \tAttendez !\n",
            "\n",
            "-\n",
            "Input sentence: Go on.\n",
            "Decoded sentence: Continuez.\n",
            "\n",
            "True target sentence: \tPoursuis.\n",
            "\n",
            "-\n",
            "Input sentence: Go on.\n",
            "Decoded sentence: Continuez.\n",
            "\n",
            "True target sentence: \tContinuez.\n",
            "\n",
            "-\n",
            "Input sentence: Go on.\n",
            "Decoded sentence: Continuez.\n",
            "\n",
            "True target sentence: \tPoursuivez.\n",
            "\n",
            "-\n",
            "Input sentence: I see.\n",
            "Decoded sentence: Je comprends.\n",
            "\n",
            "True target sentence: \tJe comprends.\n",
            "\n",
            "-\n",
            "Input sentence: I try.\n",
            "Decoded sentence: J'essayerais.\n",
            "\n",
            "True target sentence: \tJ'essaye.\n",
            "\n",
            "-\n",
            "Input sentence: I won!\n",
            "Decoded sentence: Je l'ai emporté !\n",
            "\n",
            "True target sentence: \tJ'ai gagné !\n",
            "\n",
            "-\n",
            "Input sentence: I won!\n",
            "Decoded sentence: Je l'ai emporté !\n",
            "\n",
            "True target sentence: \tJe l'ai emporté !\n",
            "\n",
            "-\n",
            "Input sentence: Oh no!\n",
            "Decoded sentence: Oh non !\n",
            "\n",
            "True target sentence: \tOh non !\n",
            "\n",
            "-\n",
            "Input sentence: Attack!\n",
            "Decoded sentence: Attaque !\n",
            "\n",
            "True target sentence: \tAttaque !\n",
            "\n",
            "-\n",
            "Input sentence: Attack!\n",
            "Decoded sentence: Attaque !\n",
            "\n",
            "True target sentence: \tAttaquez !\n",
            "\n",
            "-\n",
            "Input sentence: Cheers!\n",
            "Decoded sentence: Santé !\n",
            "\n",
            "True target sentence: \tSanté !\n",
            "\n",
            "-\n",
            "Input sentence: Cheers!\n",
            "Decoded sentence: Santé !\n",
            "\n",
            "True target sentence: \tÀ votre santé !\n",
            "\n",
            "-\n",
            "Input sentence: Cheers!\n",
            "Decoded sentence: Santé !\n",
            "\n",
            "True target sentence: \tMerci !\n",
            "\n",
            "-\n",
            "Input sentence: Cheers!\n",
            "Decoded sentence: Santé !\n",
            "\n",
            "True target sentence: \tTchin-tchin !\n",
            "\n",
            "-\n",
            "Input sentence: Get up.\n",
            "Decoded sentence: Lève-toi.\n",
            "\n",
            "True target sentence: \tLève-toi.\n",
            "\n",
            "-\n",
            "Input sentence: Go now.\n",
            "Decoded sentence: Vas-y maintenant.\n",
            "\n",
            "True target sentence: \tVa, maintenant.\n",
            "\n",
            "-\n",
            "Input sentence: Go now.\n",
            "Decoded sentence: Vas-y maintenant.\n",
            "\n",
            "True target sentence: \tAllez-y maintenant.\n",
            "\n",
            "-\n",
            "Input sentence: Go now.\n",
            "Decoded sentence: Vas-y maintenant.\n",
            "\n",
            "True target sentence: \tVas-y maintenant.\n",
            "\n",
            "-\n",
            "Input sentence: Got it!\n",
            "Decoded sentence: Compris !\n",
            "\n",
            "True target sentence: \tJ'ai pigé !\n",
            "\n",
            "-\n",
            "Input sentence: Got it!\n",
            "Decoded sentence: Compris !\n",
            "\n",
            "True target sentence: \tCompris !\n",
            "\n",
            "-\n",
            "Input sentence: Got it?\n",
            "Decoded sentence: Compris ?\n",
            "\n",
            "True target sentence: \tPigé ?\n",
            "\n",
            "-\n",
            "Input sentence: Got it?\n",
            "Decoded sentence: Compris ?\n",
            "\n",
            "True target sentence: \tCompris ?\n",
            "\n",
            "-\n",
            "Input sentence: Got it?\n",
            "Decoded sentence: Compris ?\n",
            "\n",
            "True target sentence: \tT'as capté ?\n",
            "\n",
            "-\n",
            "Input sentence: Hop in.\n",
            "Decoded sentence: Montez.\n",
            "\n",
            "True target sentence: \tMonte.\n",
            "\n",
            "-\n",
            "Input sentence: Hop in.\n",
            "Decoded sentence: Montez.\n",
            "\n",
            "True target sentence: \tMontez.\n",
            "\n",
            "-\n",
            "Input sentence: Hug me.\n",
            "Decoded sentence: Serre-moi dans tes bras !\n",
            "\n",
            "True target sentence: \tSerre-moi dans tes bras !\n",
            "\n",
            "-\n",
            "Input sentence: Hug me.\n",
            "Decoded sentence: Serre-moi dans tes bras !\n",
            "\n",
            "True target sentence: \tSerrez-moi dans vos bras !\n",
            "\n",
            "-\n",
            "Input sentence: I fell.\n",
            "Decoded sentence: Je suis tombé.\n",
            "\n",
            "True target sentence: \tJe suis tombée.\n",
            "\n",
            "-\n",
            "Input sentence: I fell.\n",
            "Decoded sentence: Je suis tombé.\n",
            "\n",
            "True target sentence: \tJe suis tombé.\n",
            "\n",
            "-\n",
            "Input sentence: I know.\n",
            "Decoded sentence: Je sais.\n",
            "\n",
            "True target sentence: \tJe sais.\n",
            "\n",
            "-\n",
            "Input sentence: I left.\n",
            "Decoded sentence: J'ai promis.\n",
            "\n",
            "True target sentence: \tJe suis parti.\n",
            "\n",
            "-\n",
            "Input sentence: I left.\n",
            "Decoded sentence: J'ai promis.\n",
            "\n",
            "True target sentence: \tJe suis partie.\n",
            "\n",
            "-\n",
            "Input sentence: I lost.\n",
            "Decoded sentence: J'ai perdu.\n",
            "\n",
            "True target sentence: \tJ'ai perdu.\n",
            "\n",
            "-\n",
            "Input sentence: I'm 19.\n",
            "Decoded sentence: Je suis affaiblie.\n",
            "\n",
            "True target sentence: \tJ'ai 19 ans.\n",
            "\n",
            "-\n",
            "Input sentence: I'm OK.\n",
            "Decoded sentence: Je vais bien.\n",
            "\n",
            "True target sentence: \tJe vais bien.\n",
            "\n",
            "-\n",
            "Input sentence: I'm OK.\n",
            "Decoded sentence: Je vais bien.\n",
            "\n",
            "True target sentence: \tÇa va.\n",
            "\n",
            "-\n",
            "Input sentence: Listen.\n",
            "Decoded sentence: Écoutez !\n",
            "\n",
            "True target sentence: \tÉcoutez !\n",
            "\n",
            "-\n",
            "Input sentence: No way!\n",
            "Decoded sentence: C'est pas possible !\n",
            "\n",
            "True target sentence: \tC'est pas possible !\n",
            "\n",
            "-\n",
            "Input sentence: No way!\n",
            "Decoded sentence: C'est pas possible !\n",
            "\n",
            "True target sentence: \tImpossible !\n",
            "\n",
            "-\n",
            "Input sentence: No way!\n",
            "Decoded sentence: C'est pas possible !\n",
            "\n",
            "True target sentence: \tEn aucun cas.\n",
            "\n",
            "-\n",
            "Input sentence: No way!\n",
            "Decoded sentence: C'est pas possible !\n",
            "\n",
            "True target sentence: \tSans façons !\n",
            "\n",
            "-\n",
            "Input sentence: No way!\n",
            "Decoded sentence: C'est pas possible !\n",
            "\n",
            "True target sentence: \tC'est hors de question !\n",
            "\n",
            "-\n",
            "Input sentence: No way!\n",
            "Decoded sentence: C'est pas possible !\n",
            "\n",
            "True target sentence: \tIl n'en est pas question !\n",
            "\n",
            "-\n",
            "Input sentence: No way!\n",
            "Decoded sentence: C'est pas possible !\n",
            "\n",
            "True target sentence: \tC'est exclu !\n",
            "\n",
            "-\n",
            "Input sentence: No way!\n",
            "Decoded sentence: C'est pas possible !\n",
            "\n",
            "True target sentence: \tEn aucune manière !\n",
            "\n",
            "-\n",
            "Input sentence: No way!\n",
            "Decoded sentence: C'est pas possible !\n",
            "\n",
            "True target sentence: \tHors de question !\n",
            "\n",
            "-\n",
            "Input sentence: Really?\n",
            "Decoded sentence: Vrai-tu ?\n",
            "\n",
            "True target sentence: \tVraiment ?\n",
            "\n",
            "-\n",
            "Input sentence: Really?\n",
            "Decoded sentence: Vrai-tu ?\n",
            "\n",
            "True target sentence: \tVrai ?\n",
            "\n",
            "-\n",
            "Input sentence: Really?\n",
            "Decoded sentence: Vrai-tu ?\n",
            "\n",
            "True target sentence: \tAh bon ?\n",
            "\n",
            "-\n",
            "Input sentence: Thanks.\n",
            "Decoded sentence: Merci !\n",
            "\n",
            "True target sentence: \tMerci !\n",
            "\n",
            "-\n",
            "Input sentence: We try.\n",
            "Decoded sentence: On essaye.\n",
            "\n",
            "True target sentence: \tOn essaye.\n",
            "\n",
            "-\n",
            "Input sentence: We won.\n",
            "Decoded sentence: Nous l'emportâmes.\n",
            "\n",
            "True target sentence: \tNous avons gagné.\n",
            "\n",
            "-\n",
            "Input sentence: We won.\n",
            "Decoded sentence: Nous l'emportâmes.\n",
            "\n",
            "True target sentence: \tNous gagnâmes.\n",
            "\n",
            "-\n",
            "Input sentence: We won.\n",
            "Decoded sentence: Nous l'emportâmes.\n",
            "\n",
            "True target sentence: \tNous l'avons emporté.\n",
            "\n",
            "-\n",
            "Input sentence: We won.\n",
            "Decoded sentence: Nous l'emportâmes.\n",
            "\n",
            "True target sentence: \tNous l'emportâmes.\n",
            "\n",
            "-\n",
            "Input sentence: Ask Tom.\n",
            "Decoded sentence: Demande à Tom.\n",
            "\n",
            "True target sentence: \tDemande à Tom.\n",
            "\n",
            "-\n",
            "Input sentence: Awesome!\n",
            "Decoded sentence: Fantastique !\n",
            "\n",
            "True target sentence: \tFantastique !\n",
            "\n",
            "-\n",
            "Input sentence: Be calm.\n",
            "Decoded sentence: Sois calme !\n",
            "\n",
            "True target sentence: \tSois calme !\n",
            "\n",
            "-\n",
            "Input sentence: Be calm.\n",
            "Decoded sentence: Sois calme !\n",
            "\n",
            "True target sentence: \tSoyez calme !\n",
            "\n",
            "-\n",
            "Input sentence: Be calm.\n",
            "Decoded sentence: Sois calme !\n",
            "\n",
            "True target sentence: \tSoyez calmes !\n",
            "\n",
            "-\n",
            "Input sentence: Be cool.\n",
            "Decoded sentence: Sois de bon e fei !\n",
            "\n",
            "True target sentence: \tSois détendu !\n",
            "\n",
            "-\n",
            "Input sentence: Be fair.\n",
            "Decoded sentence: Soyez justes !\n",
            "\n",
            "True target sentence: \tSois juste !\n",
            "\n",
            "-\n",
            "Input sentence: Be fair.\n",
            "Decoded sentence: Soyez justes !\n",
            "\n",
            "True target sentence: \tSoyez juste !\n",
            "\n",
            "-\n",
            "Input sentence: Be fair.\n",
            "Decoded sentence: Soyez justes !\n",
            "\n",
            "True target sentence: \tSoyez justes !\n",
            "\n",
            "-\n",
            "Input sentence: Be fair.\n",
            "Decoded sentence: Soyez justes !\n",
            "\n",
            "True target sentence: \tSois équitable !\n",
            "\n",
            "-\n",
            "Input sentence: Be fair.\n",
            "Decoded sentence: Soyez justes !\n",
            "\n",
            "True target sentence: \tSoyez équitable !\n",
            "\n",
            "-\n",
            "Input sentence: Be fair.\n",
            "Decoded sentence: Soyez justes !\n",
            "\n",
            "True target sentence: \tSoyez équitables !\n",
            "\n",
            "-\n",
            "Input sentence: Be kind.\n",
            "Decoded sentence: Sois gentil.\n",
            "\n",
            "True target sentence: \tSois gentil.\n",
            "\n",
            "-\n",
            "Input sentence: Be nice.\n",
            "Decoded sentence: Soyez gentils !\n",
            "\n",
            "True target sentence: \tSois gentil !\n",
            "\n",
            "-\n",
            "Input sentence: Be nice.\n",
            "Decoded sentence: Soyez gentils !\n",
            "\n",
            "True target sentence: \tSois gentille !\n",
            "\n",
            "-\n",
            "Input sentence: Be nice.\n",
            "Decoded sentence: Soyez gentils !\n",
            "\n",
            "True target sentence: \tSoyez gentil !\n",
            "\n",
            "-\n",
            "Input sentence: Be nice.\n",
            "Decoded sentence: Soyez gentils !\n",
            "\n",
            "True target sentence: \tSoyez gentille !\n",
            "\n",
            "-\n",
            "Input sentence: Be nice.\n",
            "Decoded sentence: Soyez gentils !\n",
            "\n",
            "True target sentence: \tSoyez gentils !\n",
            "\n",
            "-\n",
            "Input sentence: Be nice.\n",
            "Decoded sentence: Soyez gentils !\n",
            "\n",
            "True target sentence: \tSoyez gentilles !\n",
            "\n"
          ],
          "name": "stdout"
        },
        {
          "output_type": "stream",
          "text": [
            "-\n",
            "Input sentence: Beat it.\n",
            "Decoded sentence: Dégage !\n",
            "\n",
            "True target sentence: \tDégage !\n",
            "\n",
            "-\n",
            "Input sentence: Call me.\n",
            "Decoded sentence: Appelle-moi !\n",
            "\n",
            "True target sentence: \tAppelle-moi !\n",
            "\n",
            "-\n",
            "Input sentence: Call me.\n",
            "Decoded sentence: Appelle-moi !\n",
            "\n",
            "True target sentence: \tAppellez-moi !\n",
            "\n",
            "-\n",
            "Input sentence: Call us.\n",
            "Decoded sentence: Appelle-nous !\n",
            "\n",
            "True target sentence: \tAppelle-nous !\n",
            "\n",
            "-\n",
            "Input sentence: Call us.\n",
            "Decoded sentence: Appelle-nous !\n",
            "\n",
            "True target sentence: \tAppelez-nous !\n",
            "\n",
            "-\n",
            "Input sentence: Come in.\n",
            "Decoded sentence: Entre.\n",
            "\n",
            "True target sentence: \tEntrez !\n",
            "\n",
            "-\n",
            "Input sentence: Come in.\n",
            "Decoded sentence: Entre.\n",
            "\n",
            "True target sentence: \tEntre.\n",
            "\n",
            "-\n",
            "Input sentence: Come in.\n",
            "Decoded sentence: Entre.\n",
            "\n",
            "True target sentence: \tEntre !\n",
            "\n",
            "-\n",
            "Input sentence: Come in.\n",
            "Decoded sentence: Entre.\n",
            "\n",
            "True target sentence: \tEntrez !\n",
            "\n",
            "-\n",
            "Input sentence: Come on!\n",
            "Decoded sentence: Allez !\n",
            "\n",
            "True target sentence: \tAllez !\n",
            "\n",
            "-\n",
            "Input sentence: Come on.\n",
            "Decoded sentence: Entre.\n",
            "\n",
            "True target sentence: \tAllez !\n",
            "\n",
            "-\n",
            "Input sentence: Come on.\n",
            "Decoded sentence: Entre.\n",
            "\n",
            "True target sentence: \tViens !\n",
            "\n",
            "-\n",
            "Input sentence: Come on.\n",
            "Decoded sentence: Entre.\n",
            "\n",
            "True target sentence: \tVenez !\n",
            "\n",
            "-\n",
            "Input sentence: Drop it!\n",
            "Decoded sentence: Laissez-le tomber !\n",
            "\n",
            "True target sentence: \tLaisse tomber !\n",
            "\n"
          ],
          "name": "stdout"
        }
      ]
    },
    {
      "metadata": {
        "id": "mfhirfH2kbXV",
        "colab_type": "code",
        "colab": {
          "autoexec": {
            "startup": false,
            "wait_interval": 0
          }
        }
      },
      "cell_type": "code",
      "source": [
        ""
      ],
      "execution_count": 0,
      "outputs": []
    }
  ]
}